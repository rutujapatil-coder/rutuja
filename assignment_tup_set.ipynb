{
 "cells": [
  {
   "cell_type": "markdown",
   "id": "5055b82c-2311-4a8a-9dd6-3e0a17d19f19",
   "metadata": {},
   "source": [
    "## Q1. Join tuples if similar initial element."
   ]
  },
  {
   "cell_type": "code",
   "execution_count": 13,
   "id": "d40daf18-1065-4dcc-848d-c7f4cc8e0d0b",
   "metadata": {},
   "outputs": [
    {
     "name": "stdout",
     "output_type": "stream",
     "text": [
      "The original List is:\n",
      "[(5, 6), (5, 7), (5, 8), (6, 10), (7, 13)]\n",
      "The joined List is:\n",
      "[[5, 6, 7, 8], [6, 10], [7, 13]]\n"
     ]
    }
   ],
   "source": [
    "List=[(5,6),(5,7),(5,8),(6,10),(7,13)]\n",
    "\n",
    "print(\"The original List is:\")\n",
    "print(List)\n",
    "\n",
    "result=[]\n",
    "for sub in List:\n",
    "    if result and result[-1][0]== sub[0]:\n",
    "        result[-1].extend(sub[1:])\n",
    "    else:\n",
    "        result.append([ele for ele in sub])\n",
    "    \n",
    "print(\"The joined List is:\")\n",
    "print(result)"
   ]
  },
  {
   "cell_type": "markdown",
   "id": "196023db-950a-4f85-a33d-ed4f8bece656",
   "metadata": {},
   "source": [
    "## Q2.Multiply adjacent elements (both side) and take sum of right and left side multiplication result."
   ]
  },
  {
   "cell_type": "code",
   "execution_count": 24,
   "id": "50b54990-6124-43ed-8158-bd0237de0222",
   "metadata": {},
   "outputs": [
    {
     "name": "stdout",
     "output_type": "stream",
     "text": [
      "The tuple is:\n",
      "(1, 5, 7, 8, 10)\n",
      "The tuple after multiplication :\n",
      "(5, 35, 56, 80)\n"
     ]
    }
   ],
   "source": [
    "my_tuple_1 =(1,5, 7, 8, 10)\n",
    "\n",
    "print(\"The tuple is:\")\n",
    "print(my_tuple_1)\n",
    "\n",
    "my_result=tuple(i*j for i,j in zip(my_tuple_1, my_tuple_1[1:]))\n",
    "\n",
    "print(\"The tuple after multiplication :\")\n",
    "\n",
    "\n",
    "print(my_result)"
   ]
  },
  {
   "cell_type": "markdown",
   "id": "708b7c1e-b2a4-4228-b943-68d5104fa4e2",
   "metadata": {},
   "source": [
    "## Q3.Check is tuples are same or not?"
   ]
  },
  {
   "cell_type": "code",
   "execution_count": 37,
   "id": "f2ad3c07-abee-4d70-ab94-b6c27b37ea8d",
   "metadata": {},
   "outputs": [
    {
     "name": "stdout",
     "output_type": "stream",
     "text": [
      "True\n",
      "t1 and t2 are not same\n"
     ]
    }
   ],
   "source": [
    "t1=(1,2,3,0)\n",
    "t2=(0,1,2,3)\n",
    "\n",
    "if (t1==t2):\n",
    "   print(False)\n",
    "else:\n",
    " (\"t1 is not equal to t2\")\n",
    " print(True)\n",
    " print(\"t1 and t2 are not same\")\n"
   ]
  },
  {
   "cell_type": "markdown",
   "id": "ccf93a15-698c-481c-b048-24e05927c65f",
   "metadata": {},
   "source": [
    "## Q4.Count no of tuples, list and set from a list."
   ]
  },
  {
   "cell_type": "code",
   "execution_count": 13,
   "id": "f475e352-a6b8-40f8-9be5-c7d84a2a23b7",
   "metadata": {},
   "outputs": [
    {
     "name": "stdout",
     "output_type": "stream",
     "text": [
      "number of tuples: 1\n",
      "number of lists: 2\n",
      "number of sets: 2\n"
     ]
    }
   ],
   "source": [
    "list1=[{'hi','bye'},{'Geeks','forGeeks'},('a','b'),['hi','bye'],['a','b']]\n",
    "\n",
    "count_tuples=0\n",
    "count_lists=0\n",
    "count_sets=0\n",
    "\n",
    "\n",
    "for item in list1:\n",
    " if isinstance(item, tuple):\n",
    "        count_tuples+=1\n",
    " elif isinstance(item, list):\n",
    "        count_lists+=1\n",
    " elif isinstance(item, set):\n",
    "        count_sets+=1\n",
    "        \n",
    "print(\"number of tuples:\", count_tuples)\n",
    "print(\"number of lists:\", count_lists)\n",
    "print(\"number of sets:\", count_sets)\n"
   ]
  },
  {
   "cell_type": "markdown",
   "id": "a55ccb79-43ca-40e7-9047-06ebe055456b",
   "metadata": {},
   "source": [
    "## Q5.Shortlist students for job role."
   ]
  },
  {
   "cell_type": "code",
   "execution_count": 17,
   "id": "5e3f5ebe-c2ac-4893-bdf9-2b2cb75afcae",
   "metadata": {},
   "outputs": [
    {
     "name": "stdin",
     "output_type": "stream",
     "text": [
      "enter no. of records: 1\n"
     ]
    },
    {
     "name": "stdout",
     "output_type": "stream",
     "text": [
      "enter details of student-1\n"
     ]
    },
    {
     "name": "stdin",
     "output_type": "stream",
     "text": [
      "enter student name: rutuja\n",
      "enter higher education: 3rd year\n",
      "enter primary skill: communication \n",
      "enter year of graduation: 2025\n"
     ]
    },
    {
     "name": "stdout",
     "output_type": "stream",
     "text": [
      "\n",
      " enter job role requirement\n"
     ]
    },
    {
     "name": "stdin",
     "output_type": "stream",
     "text": [
      "enter skill: developer\n",
      "enter higher education: bsc(cs)\n",
      "enter year of graduation: 2025\n"
     ]
    },
    {
     "name": "stdout",
     "output_type": "stream",
     "text": [
      "no such candidate\n"
     ]
    }
   ],
   "source": [
    "num_records = int(input(\"enter no. of records:\"))\n",
    "students=[]\n",
    "\n",
    "for i in range(num_records):\n",
    "    print(f\"enter details of student-{i + 1}\")\n",
    "\n",
    "name= input(\"enter student name:\")\n",
    "\n",
    "education= input(\"enter higher education:\")\n",
    "\n",
    "skill= input(\"enter primary skill:\")\n",
    "\n",
    "graduation_year= input(\"enter year of graduation:\")\n",
    "\n",
    "print(\"\\n enter job role requirement\")\n",
    "\n",
    "required_skill = input(\"enter skill:\")\n",
    "\n",
    "required_education = input(\"enter higher education:\")\n",
    "required_year = input(\"enter year of graduation:\")\n",
    "\n",
    "\n",
    "for student in students:\n",
    "    name, education, skill, graduation_year = student\n",
    "    if skill == required_skill and education ==required_education and graduation_year == required_year:\n",
    "        shortlisted_candidates.append(student)\n",
    "\n",
    "    if shortlisted_candidates:\n",
    "        for candidate in shortlisted_candidates:\n",
    "            print(candidate)\n",
    "else:\n",
    "    print(\"no such candidate\")\n"
   ]
  },
  {
   "cell_type": "markdown",
   "id": "d32dc44c-8bc7-4cf2-baa5-685ddabae2b7",
   "metadata": {},
   "source": [
    "# SET..."
   ]
  },
  {
   "cell_type": "markdown",
   "id": "fc31cfcd-39e3-411a-91b4-6186898249f2",
   "metadata": {},
   "source": [
    "## Q1.Write a program to find set of common elements in three lists using sets."
   ]
  },
  {
   "cell_type": "code",
   "execution_count": 1,
   "id": "99177f5c-fbef-4e78-a3dd-f2636b29f9c6",
   "metadata": {},
   "outputs": [
    {
     "name": "stdout",
     "output_type": "stream",
     "text": [
      "the common elements are:\n",
      "{80, 20}\n"
     ]
    }
   ],
   "source": [
    "ar1={1,5,10,20,40,80}\n",
    "ar2={6,7,20,80,100}\n",
    "ar3={3,4,15,20,30,70,80,120}\n",
    "print(\"the common elements are:\")\n",
    "print(ar1.intersection(ar2,ar3))"
   ]
  },
  {
   "cell_type": "markdown",
   "id": "637ad696-d175-4f74-a59c-4b7e53efb420",
   "metadata": {},
   "source": [
    "## Q2.Write a program to count unique number of vowels using sets in a given string. Lowercase and upercase vowels will be taken as different."
   ]
  },
  {
   "cell_type": "code",
   "execution_count": 2,
   "id": "78db8b60-4bbb-4e32-916f-f98af9c2e815",
   "metadata": {},
   "outputs": [
    {
     "name": "stdout",
     "output_type": "stream",
     "text": [
      "the no of unique vowels are:\n",
      "28\n"
     ]
    }
   ],
   "source": [
    "str1=(\"hands-on data sciene mentorship program with live classes at affordable fee only on campusX\")\n",
    "vowels=(\"a\",\"e\",\"i\",\"o\",\"u\")\n",
    "count=sum(str1.count(vowel)for vowel in vowels)\n",
    "print(\"the no of unique vowels are:\")\n",
    "print(count)"
   ]
  },
  {
   "cell_type": "markdown",
   "id": "7fc64aa1-5a45-4aff-bd74-fec5e98d5719",
   "metadata": {},
   "source": [
    "## Q3.Write a program to check if a given string is binary string of or not. "
   ]
  },
  {
   "cell_type": "code",
   "execution_count": 4,
   "id": "e3696b9b-e1cc-4e36-9a4f-b7436285fd47",
   "metadata": {},
   "outputs": [
    {
     "name": "stdin",
     "output_type": "stream",
     "text": [
      "enter the numbers: 7\n"
     ]
    },
    {
     "name": "stdout",
     "output_type": "stream",
     "text": [
      "the string is binary string\n"
     ]
    }
   ],
   "source": [
    "i=int(input(\"enter the numbers:\"))\n",
    "s={'0','1'}\n",
    "if s==i:\n",
    "    print(\"the string is not binary string\")\n",
    "\n",
    "else:\n",
    "    print(\"the string is binary string\")"
   ]
  },
  {
   "cell_type": "markdown",
   "id": "89a542b8-cd18-4e8b-a337-6d554d4083ae",
   "metadata": {},
   "source": [
    "## Q4.Find union of n arrays. "
   ]
  },
  {
   "cell_type": "code",
   "execution_count": 5,
   "id": "5db681a6-155a-4f90-b18b-f181eb1660b6",
   "metadata": {},
   "outputs": [
    {
     "name": "stdout",
     "output_type": "stream",
     "text": [
      "{1, 2, 3, 4, 5, 7, 9}\n"
     ]
    }
   ],
   "source": [
    "a=[[1,2,2,4,3,5],[5,1,3,4],[9,5,7,1],[2,4,1,3]]\n",
    "b=set()\n",
    "for i in a:\n",
    "    b.update(i)\n",
    "\n",
    "print(b)"
   ]
  },
  {
   "cell_type": "markdown",
   "id": "e085768a-71ef-4560-8347-a7299825a0b0",
   "metadata": {},
   "source": [
    "## Q5.Intersection of two lists.Intersection of two list means we need to take all those elements which are common to both of the initial lists and store them into another list.Only use using \"list comprehension\"."
   ]
  },
  {
   "cell_type": "code",
   "execution_count": 92,
   "id": "0812ece6-9552-49af-aa59-a1618f08ef87",
   "metadata": {},
   "outputs": [
    {
     "name": "stdout",
     "output_type": "stream",
     "text": [
      "[4, 5, 9, 10]\n"
     ]
    }
   ],
   "source": [
    "lst1={15,9,10,56,23,78,5,4,9}\n",
    "lst2={9,4,5,36,47,26,10,45,87}\n",
    "\n",
    "intersection_list=[x for x in lst1 if x in lst2]\n",
    "print(intersection_list)"
   ]
  },
  {
   "cell_type": "markdown",
   "id": "e5b36f50-1cda-49c8-aa01-115e9b8a913d",
   "metadata": {},
   "source": [
    "# DICTIONARY"
   ]
  },
  {
   "cell_type": "markdown",
   "id": "36359a03-af4c-464c-9738-af1ea558f7dd",
   "metadata": {},
   "source": [
    "## Q1.Key with maximum unique values."
   ]
  },
  {
   "cell_type": "code",
   "execution_count": 20,
   "id": "f58f79db-b8c4-4858-8173-dd4e485522fa",
   "metadata": {},
   "outputs": [
    {
     "name": "stdout",
     "output_type": "stream",
     "text": [
      "the originak dic:\n",
      "{'campusX': [5, 7, 9, 4, 0], 'is': [6, 7, 4, 3, 3], 'Best': [9, 9, 6, 5, 5]}\n",
      "key with maximum unique values:campusX\n"
     ]
    }
   ],
   "source": [
    "test_dict={\"campusX\":[5,7,9,4,0],\n",
    "           \"is\":[6,7,4,3,3],\n",
    "           \"Best\":[9,9,6,5,5]}\n",
    "print(\"the originak dic:\")\n",
    "print(test_dict)\n",
    "\n",
    "max_val=0\n",
    "max_key=None\n",
    "\n",
    "for sub in test_dict:\n",
    "\n",
    "\n",
    "    if len(set(test_dict[sub])) > max_val:\n",
    "        max_val = len(set(test_dict[sub]))\n",
    "        max_key=sub\n",
    "print(\"key with maximum unique values:\" + str(max_key))\n"
   ]
  },
  {
   "cell_type": "markdown",
   "id": "8ffbc597-5be4-47e0-91a5-1096de0da2e1",
   "metadata": {},
   "source": [
    "## Q2.Replace words from Dictionary.Given string,replace its words from lookup dictionary."
   ]
  },
  {
   "cell_type": "code",
   "execution_count": 32,
   "id": "7cd63ca8-f39b-46fe-bea7-99085df6d365",
   "metadata": {},
   "outputs": [
    {
     "name": "stdout",
     "output_type": "stream",
     "text": [
      "campusx best for DS students.\n",
      "replaced strings: campusxis the best channelforData Sciencestudents.\n"
     ]
    }
   ],
   "source": [
    "test_str= \"campusx best for DS students.\"\n",
    "\n",
    "print(test_str)\n",
    "\n",
    "rep1_dict = {\"best\": \"is the best channel\" , \"DS\": \"Data Science\"}\n",
    "\n",
    "temp= test_str.split()\n",
    "res=[]\n",
    "for wrd in temp:\n",
    "\n",
    "    res.append(rep1_dict.get(wrd, wrd))\n",
    "\n",
    "res=''.join(res)\n",
    "\n",
    "print(\"replaced strings: \"+str(res))"
   ]
  },
  {
   "cell_type": "markdown",
   "id": "e4fa51eb-e949-43d0-8099-6d6f73bff81e",
   "metadata": {},
   "source": [
    "## Q3.Convert list to list of dictionaries. Given list values and keys list,convert these values to key value pairs in form of list of dictionaries."
   ]
  },
  {
   "cell_type": "code",
   "execution_count": 33,
   "id": "f837b3a3-0313-45fe-adf4-81b6656dd484",
   "metadata": {},
   "outputs": [
    {
     "name": "stdout",
     "output_type": "stream",
     "text": [
      "the original list is:\n",
      "['Data Science', 3, 'is', 8]\n",
      "the constructed dictionary list: \n",
      "[{'name': 'Data Science', 'id': 3}, {'name': 'is', 'id': 8}]\n"
     ]
    }
   ],
   "source": [
    "d1=[\"Data Science\", 3,\"is\",8]\n",
    "print(\"the original list is:\")\n",
    "print(d1)\n",
    "d2=[\"name\", \"id\"]\n",
    "\n",
    "n=len(d1)\n",
    "res=[]\n",
    "for idx in range(0, n , 2):\n",
    "    res.append({d2[0]: d1[idx], d2[1]: d1[idx + 1]})\n",
    "\n",
    "print(\"the constructed dictionary list: \")\n",
    "print(res)"
   ]
  },
  {
   "cell_type": "markdown",
   "id": "ddefca17-befe-4dd3-885b-699ddf0dd190",
   "metadata": {},
   "source": [
    "## Q4.Convert a list of Tuples into dictionary."
   ]
  },
  {
   "cell_type": "code",
   "execution_count": 29,
   "id": "a795a6c4-73c1-4d65-8743-8ea16c2f7aea",
   "metadata": {},
   "outputs": [
    {
     "name": "stdout",
     "output_type": "stream",
     "text": [
      "{'shruti': [10]}\n"
     ]
    }
   ],
   "source": [
    "def Convert(tup, di):\n",
    "    for a, b in tup:\n",
    "        di.setdefault(a, []).append(b)\n",
    "        return di\n",
    "\n",
    "tups= [(\"shruti\",10), (\"rutuja\",12), (\"janki\",14),\n",
    "        (\"aditi\",20), (\"siya\",25), (\"diya\",30)]\n",
    "dictionary={}\n",
    "print(Convert(tups,dictionary))"
   ]
  },
  {
   "cell_type": "markdown",
   "id": "cf7e94a9-2504-4edd-b48f-699d9522e9e0",
   "metadata": {},
   "source": [
    "## Q5.Sort Dictionary key and valus list."
   ]
  },
  {
   "cell_type": "code",
   "execution_count": 30,
   "id": "847e2db0-1a1b-4220-acbc-c5ba527bc842",
   "metadata": {},
   "outputs": [
    {
     "name": "stdout",
     "output_type": "stream",
     "text": [
      "the original dictionary is: \n",
      "{'c': [3], 'b': [12, 10], 'a': [19, 4]}\n",
      "the sorted dictionary: \n",
      "{'a': [4, 19], 'b': [10, 12], 'c': [3]}\n"
     ]
    }
   ],
   "source": [
    "a1= {'c':[3],'b':[12,10],'a':[19,4]}\n",
    "print(\"the original dictionary is: \")\n",
    "print(a1)\n",
    "\n",
    "res= {key : sorted(a1[key]) for key in sorted(a1)}\n",
    "\n",
    "print(\"the sorted dictionary: \")\n",
    "print(res)"
   ]
  },
  {
   "cell_type": "code",
   "execution_count": null,
   "id": "5cb24f9e-10cc-4cc9-9fe3-db014879267d",
   "metadata": {},
   "outputs": [],
   "source": []
  }
 ],
 "metadata": {
  "kernelspec": {
   "display_name": "Python 3 (ipykernel)",
   "language": "python",
   "name": "python3"
  },
  "language_info": {
   "codemirror_mode": {
    "name": "ipython",
    "version": 3
   },
   "file_extension": ".py",
   "mimetype": "text/x-python",
   "name": "python",
   "nbconvert_exporter": "python",
   "pygments_lexer": "ipython3",
   "version": "3.11.7"
  }
 },
 "nbformat": 4,
 "nbformat_minor": 5
}

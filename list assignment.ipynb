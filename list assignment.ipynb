{
 "cells": [
  {
   "cell_type": "markdown",
   "id": "8d08dcc0-d502-403d-b8cc-faa9708b1f86",
   "metadata": {},
   "source": [
    "## Q1.Create 2 lists from a given list wher 1st list will contain all the odd numbers from the orginal list and 2nd one will contain all the even numbers."
   ]
  },
  {
   "cell_type": "code",
   "execution_count": 3,
   "id": "f8d74022-39e8-4df7-ae10-7a74a02afc62",
   "metadata": {},
   "outputs": [
    {
     "name": "stdout",
     "output_type": "stream",
     "text": [
      "[1, 3, 5]\n",
      "[2, 4, 6]\n"
     ]
    }
   ],
   "source": [
    "L=[1,2,3,4,5,6]\n",
    "\n",
    "even=[]\n",
    "odd=[]\n",
    "for i in L:\n",
    "    if i% 2 == 0:\n",
    "       even.append(i)\n",
    "    else:\n",
    "        odd.append(i)\n",
    "\n",
    "print(odd)\n",
    "print(even)"
   ]
  },
  {
   "cell_type": "code",
   "execution_count": null,
   "id": "0dc14205-ff95-4602-9bc4-1bc1bb2a4418",
   "metadata": {},
   "outputs": [],
   "source": []
  },
  {
   "cell_type": "markdown",
   "id": "97ce8fc0-936b-4485-bad0-592aa0743c1f",
   "metadata": {},
   "source": [
    "### Q2.How to take list as input from user."
   ]
  },
  {
   "cell_type": "code",
   "execution_count": 31,
   "id": "0e9c0e74-0acb-4cb1-8a18-115ec1272ff8",
   "metadata": {},
   "outputs": [
    {
     "name": "stdin",
     "output_type": "stream",
     "text": [
      "Enter your fruit: \n",
      " apple\n",
      "Enter your fruit: \n",
      " mango\n"
     ]
    },
    {
     "name": "stdout",
     "output_type": "stream",
     "text": [
      "\n"
     ]
    }
   ],
   "source": [
    "fruits=[]\n",
    "for x in range(2):\n",
    "    n=input(\"Enter your fruit: \\n\")\n",
    "    fruits.append(n)\n",
    "\n",
    "\n",
    "print()"
   ]
  },
  {
   "cell_type": "markdown",
   "id": "b76fb6ab-7e71-47b6-a559-7808085db24a",
   "metadata": {},
   "source": []
  },
  {
   "cell_type": "markdown",
   "id": "d56faae3-e569-46f1-8fe2-b040c5e41bdf",
   "metadata": {},
   "source": [
    "## Q3.Write a program to merge 2 list without using the + operator."
   ]
  },
  {
   "cell_type": "code",
   "execution_count": 32,
   "id": "7ba62999-cf1c-4819-aacc-e83f087ee5f8",
   "metadata": {},
   "outputs": [
    {
     "name": "stdout",
     "output_type": "stream",
     "text": [
      "[1, 2, 3, 4, 5, 6, 7, 8]\n"
     ]
    }
   ],
   "source": [
    "l1=[1,2,3,4]\n",
    "l2=[5,6,7,8]\n",
    "l1.extend(l2)\n",
    "\n",
    "print(l1)\n"
   ]
  },
  {
   "cell_type": "markdown",
   "id": "3a7442f3-6870-4487-8280-14b3ed3f5ffd",
   "metadata": {},
   "source": [
    "## Q4.Write a program to replace an item with a different item if found in the list   replace 3 with 300"
   ]
  },
  {
   "cell_type": "code",
   "execution_count": 31,
   "id": "f21bd3f9-98b9-4e1b-93e3-70c2e85965c1",
   "metadata": {},
   "outputs": [
    {
     "data": {
      "text/plain": [
       "[1, 2, 300, 4, 5, 300]"
      ]
     },
     "execution_count": 31,
     "metadata": {},
     "output_type": "execute_result"
    }
   ],
   "source": [
    "l=[1,2,3,4,5,3]               #replace 3 with 300\n",
    "l[-1]=300\n",
    "l[-4]=300\n",
    "l\n",
    "\n"
   ]
  },
  {
   "cell_type": "markdown",
   "id": "603635ef-f1a2-4d84-b734-34afab0ec478",
   "metadata": {},
   "source": [
    "# Q5.Write a program that can covert 2D list to 1D list."
   ]
  },
  {
   "cell_type": "code",
   "execution_count": 5,
   "id": "ba6861be-c7d6-4cc6-9fef-a159c7b83a40",
   "metadata": {},
   "outputs": [
    {
     "name": "stdout",
     "output_type": "stream",
     "text": [
      "[1, 2, 3, 4, 5, 6]\n"
     ]
    }
   ],
   "source": [
    "l=[[1,2,3],[4,5,6]]\n",
    "l1=[]\n",
    "for i in l:\n",
    "    for j in i:\n",
    "        l1.append(j)\n",
    "\n",
    "print (l1)"
   ]
  },
  {
   "cell_type": "markdown",
   "id": "cee7d7ea-3096-48ae-bee5-76f71532d1bf",
   "metadata": {},
   "source": [
    "# Q6.Write a program to remove duplicate items from a list."
   ]
  },
  {
   "cell_type": "code",
   "execution_count": 4,
   "id": "6f45e6a0-1043-496f-a8fc-fe199bc021a8",
   "metadata": {},
   "outputs": [
    {
     "data": {
      "text/plain": [
       "[1, 2, 5, 3, 4]"
      ]
     },
     "execution_count": 4,
     "metadata": {},
     "output_type": "execute_result"
    }
   ],
   "source": [
    "l=[1,2,1,2,3,4,5,3,4]\n",
    "l.remove(1)\n",
    "l.remove(2)\n",
    "l.remove(3)\n",
    "l.remove(4)\n",
    "l\n"
   ]
  },
  {
   "cell_type": "markdown",
   "id": "72e34581-e729-4669-a58a-f3c66b3a4a92",
   "metadata": {},
   "source": [
    "# Q7.Write a program to check if a list is in ascending order or not.\n"
   ]
  },
  {
   "cell_type": "code",
   "execution_count": 26,
   "id": "e1f7f48d-a0ee-4c1b-bcb8-3442a0e97f5b",
   "metadata": {},
   "outputs": [
    {
     "name": "stdout",
     "output_type": "stream",
     "text": [
      "The list is in ascending order. \n"
     ]
    }
   ],
   "source": [
    "l=[1,2,3,4,5,6,7]\n",
    "for i in range(len(l)-1):\n",
    "  if l[i]>l[i+1]:\n",
    "     print(\"not in ascending order\")\n",
    "     break\n",
    "          \n",
    "else:\n",
    "    print(\"The list is in ascending order. \")\n",
    "   \n"
   ]
  },
  {
   "cell_type": "code",
   "execution_count": null,
   "id": "7f995989-7ea7-4096-8184-862eb40d0712",
   "metadata": {},
   "outputs": [],
   "source": []
  },
  {
   "cell_type": "code",
   "execution_count": null,
   "id": "2fc1ce65-9c53-40ae-9ab2-3607bd41a457",
   "metadata": {},
   "outputs": [],
   "source": []
  }
 ],
 "metadata": {
  "kernelspec": {
   "display_name": "Python 3 (ipykernel)",
   "language": "python",
   "name": "python3"
  },
  "language_info": {
   "codemirror_mode": {
    "name": "ipython",
    "version": 3
   },
   "file_extension": ".py",
   "mimetype": "text/x-python",
   "name": "python",
   "nbconvert_exporter": "python",
   "pygments_lexer": "ipython3",
   "version": "3.11.7"
  }
 },
 "nbformat": 4,
 "nbformat_minor": 5
}

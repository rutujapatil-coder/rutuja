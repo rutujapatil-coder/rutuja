{
 "cells": [
  {
   "cell_type": "markdown",
   "id": "8b91a1b2-8c95-4a5c-8505-3aad975cd9bc",
   "metadata": {},
   "source": [
    "# find the lengh of given string(given by user) \n",
    "# without using len() function"
   ]
  },
  {
   "cell_type": "code",
   "execution_count": 3,
   "id": "9a8e7231-08bd-4257-90cf-abc277b771b2",
   "metadata": {},
   "outputs": [
    {
     "name": "stdin",
     "output_type": "stream",
     "text": [
      "enter any string hello world\n"
     ]
    },
    {
     "name": "stdout",
     "output_type": "stream",
     "text": [
      "length of string is 11\n"
     ]
    }
   ],
   "source": [
    "s=input(\"enter any string\")\n",
    "count=0\n",
    "for i in s:\n",
    "    count +=1\n",
    "print(\"length of string is\",count)\n"
   ]
  },
  {
   "cell_type": "markdown",
   "id": "92d9fe38-4ef7-44a4-bbc3-2b7503b1f76b",
   "metadata": {},
   "source": [
    "## extract user id from given mail id\n",
    "## eg if the mail is chetan24jagtap@gmail.com then user name should be 'chetan24jagtap'"
   ]
  },
  {
   "cell_type": "code",
   "execution_count": 5,
   "id": "3b05103a-c455-4b3f-b983-e1a84b28de50",
   "metadata": {},
   "outputs": [
    {
     "name": "stdin",
     "output_type": "stream",
     "text": [
      "enter mail id aaditiparihar@gmail.com\n"
     ]
    },
    {
     "name": "stdout",
     "output_type": "stream",
     "text": [
      "aaditiparihar\n"
     ]
    }
   ],
   "source": [
    "str=input(\"enter mail id\")\n",
    "poss=str.index(\"@\")\n",
    "print(str[0:poss])"
   ]
  },
  {
   "cell_type": "markdown",
   "id": "ff82a22b-7b03-4ccc-ba24-13eb0e7a097c",
   "metadata": {},
   "source": [
    "## count the frequency of perticular character in provided string\n",
    "## eg-\"hello how are you\" is the string , the frequency of \"h\"in this string is 2\n",
    "## without using count function"
   ]
  },
  {
   "cell_type": "code",
   "execution_count": 6,
   "id": "80f6ba12-7d2e-486c-a042-704110da09fa",
   "metadata": {},
   "outputs": [
    {
     "name": "stdin",
     "output_type": "stream",
     "text": [
      "enter your string hello how are you\n",
      "what would you like to search h\n"
     ]
    },
    {
     "name": "stdout",
     "output_type": "stream",
     "text": [
      "frequency of your character is 2\n"
     ]
    }
   ],
   "source": [
    "str1=input(\"enter your string\")\n",
    "term=input(\"what would you like to search\")\n",
    "\n",
    "counter=0\n",
    "for i in str1:\n",
    "    if i ==term:\n",
    "        counter +=1\n",
    "print(\"frequency of your character is\",counter)"
   ]
  },
  {
   "cell_type": "markdown",
   "id": "771480fe-df5d-4c61-a1de-2a4838da6dde",
   "metadata": {},
   "source": [
    "## write a program which can remove a particular character from string"
   ]
  },
  {
   "cell_type": "code",
   "execution_count": 11,
   "id": "c26c8cd1-4675-4b68-8aa0-35bb669a5ed1",
   "metadata": {},
   "outputs": [
    {
     "name": "stdin",
     "output_type": "stream",
     "text": [
      "enter your string hello how are you\n",
      "what you want to remove h\n"
     ]
    },
    {
     "name": "stdout",
     "output_type": "stream",
     "text": [
      "ello ow are you\n"
     ]
    }
   ],
   "source": [
    "s1=input(\"enter your string\")\n",
    "term=input(\"what you want to remove\")\n",
    "\n",
    "result=\"\"\n",
    "\n",
    "for i in s1:\n",
    "    if i!=term:\n",
    "        result = result+i\n",
    "print(result)"
   ]
  },
  {
   "cell_type": "code",
   "execution_count": null,
   "id": "4b375182-c97e-4012-8cce-ef85295db9cd",
   "metadata": {},
   "outputs": [],
   "source": []
  }
 ],
 "metadata": {
  "kernelspec": {
   "display_name": "Python 3 (ipykernel)",
   "language": "python",
   "name": "python3"
  },
  "language_info": {
   "codemirror_mode": {
    "name": "ipython",
    "version": 3
   },
   "file_extension": ".py",
   "mimetype": "text/x-python",
   "name": "python",
   "nbconvert_exporter": "python",
   "pygments_lexer": "ipython3",
   "version": "3.11.7"
  }
 },
 "nbformat": 4,
 "nbformat_minor": 5
}
